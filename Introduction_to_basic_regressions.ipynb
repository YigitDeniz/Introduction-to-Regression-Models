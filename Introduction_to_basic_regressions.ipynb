{
 "cells": [
  {
   "cell_type": "code",
   "execution_count": 1,
   "metadata": {},
   "outputs": [],
   "source": [
    "import pandas as pd\n",
    "import matplotlib.pyplot as plt\n",
    "import numpy as np"
   ]
  },
  {
   "cell_type": "markdown",
   "metadata": {},
   "source": [
    "In this notebook linear, polynomial, decision tree regressions will be briefly covered. Note that, train test split and standardization/normalization are normally very important steps in a regression analysis."
   ]
  },
  {
   "cell_type": "markdown",
   "metadata": {},
   "source": [
    "### Let's read data first"
   ]
  },
  {
   "cell_type": "code",
   "execution_count": 63,
   "metadata": {},
   "outputs": [
    {
     "data": {
      "text/html": [
       "<div>\n",
       "<style scoped>\n",
       "    .dataframe tbody tr th:only-of-type {\n",
       "        vertical-align: middle;\n",
       "    }\n",
       "\n",
       "    .dataframe tbody tr th {\n",
       "        vertical-align: top;\n",
       "    }\n",
       "\n",
       "    .dataframe thead th {\n",
       "        text-align: right;\n",
       "    }\n",
       "</style>\n",
       "<table border=\"1\" class=\"dataframe\">\n",
       "  <thead>\n",
       "    <tr style=\"text-align: right;\">\n",
       "      <th></th>\n",
       "      <th>experience</th>\n",
       "      <th>salary</th>\n",
       "    </tr>\n",
       "  </thead>\n",
       "  <tbody>\n",
       "    <tr>\n",
       "      <th>0</th>\n",
       "      <td>0.5</td>\n",
       "      <td>2500</td>\n",
       "    </tr>\n",
       "    <tr>\n",
       "      <th>1</th>\n",
       "      <td>0.0</td>\n",
       "      <td>2250</td>\n",
       "    </tr>\n",
       "    <tr>\n",
       "      <th>2</th>\n",
       "      <td>1.0</td>\n",
       "      <td>2750</td>\n",
       "    </tr>\n",
       "    <tr>\n",
       "      <th>3</th>\n",
       "      <td>5.0</td>\n",
       "      <td>8000</td>\n",
       "    </tr>\n",
       "    <tr>\n",
       "      <th>4</th>\n",
       "      <td>8.0</td>\n",
       "      <td>9000</td>\n",
       "    </tr>\n",
       "  </tbody>\n",
       "</table>\n",
       "</div>"
      ],
      "text/plain": [
       "   experience  salary\n",
       "0         0.5    2500\n",
       "1         0.0    2250\n",
       "2         1.0    2750\n",
       "3         5.0    8000\n",
       "4         8.0    9000"
      ]
     },
     "execution_count": 63,
     "metadata": {},
     "output_type": "execute_result"
    }
   ],
   "source": [
    "data1 = pd.read_csv(\"linear-regression-dataset.csv\", sep=';')\n",
    "data1.rename(columns={'deneyim':'experience', 'maas':'salary'}, inplace=True)\n",
    "data1.head()"
   ]
  },
  {
   "cell_type": "markdown",
   "metadata": {},
   "source": [
    "### Plot Data"
   ]
  },
  {
   "cell_type": "code",
   "execution_count": 12,
   "metadata": {},
   "outputs": [
    {
     "data": {
      "image/png": "[encoded data removed]",
      "text/plain": [
       "<Figure size 432x288 with 1 Axes>"
      ]
     },
     "metadata": {
      "needs_background": "light"
     },
     "output_type": "display_data"
    }
   ],
   "source": [
    "plt.scatter(data1.experience, data1.salary)\n",
    "plt.xlabel('salary', fontsize=15)\n",
    "plt.ylabel('experience', fontsize=15)\n",
    "plt.show()"
   ]
  },
  {
   "cell_type": "markdown",
   "metadata": {},
   "source": [
    "Sklearn library requires the shape of columns in a (number, number) format. As you can see below skalar type of shape is not accepted. So, we have to use reshape(-1,-1) function "
   ]
  },
  {
   "cell_type": "code",
   "execution_count": 22,
   "metadata": {},
   "outputs": [
    {
     "name": "stdout",
     "output_type": "stream",
     "text": [
      "x shape: (14,)\n",
      "y shape: (14,)\n"
     ]
    }
   ],
   "source": [
    "# .values = numpy array conversion\n",
    "# .reshape(-1,1)  = (14,) -> (14,1)\n",
    "\n",
    "x = data1.experience.values\n",
    "y = data1.salary.values\n",
    "print('x shape: {}\\ny shape: {}'.format(x.shape, y.shape))"
   ]
  },
  {
   "cell_type": "code",
   "execution_count": 24,
   "metadata": {},
   "outputs": [
    {
     "name": "stdout",
     "output_type": "stream",
     "text": [
      "x shape: (14, 1)\n",
      "y shape: (14, 1)\n"
     ]
    }
   ],
   "source": [
    "# x = data1.experience.values.reshape(-1,1)\n",
    "# y = data1.salary.values.reshape(-1,1)\n",
    "x = x.reshape(-1,1)\n",
    "y = y.reshape(-1,1)\n",
    "print('x shape: {}\\ny shape: {}'.format(x.shape, y.shape))"
   ]
  },
  {
   "cell_type": "markdown",
   "metadata": {},
   "source": [
    "AN IMPORTANTANT NOTE: Normally data must be splitted into train and test data. In this notebook these data are just too small and imaginery. The purpose of this notebook is to explain the use of sklearn library and show the main regression types"
   ]
  },
  {
   "cell_type": "markdown",
   "metadata": {},
   "source": [
    "### Linear Regression"
   ]
  },
  {
   "cell_type": "code",
   "execution_count": 31,
   "metadata": {},
   "outputs": [
    {
     "name": "stdout",
     "output_type": "stream",
     "text": [
      "intercept(b0):  [[1663.89519747]]\n",
      "intercept(b0):  [1663.89519747]\n",
      "slope(b1):  [[1138.34819698]]\n",
      "Predicted salary for 11 years of experience:  [[14185.72536421]]\n"
     ]
    }
   ],
   "source": [
    "from sklearn.linear_model import LinearRegression\n",
    "\n",
    "lr = LinearRegression()\n",
    "lr.fit(x, y)\n",
    "\n",
    "# Prediction\n",
    "# To get the intercept (b0), following two can be written. Both are the same:\n",
    "b0 = lr.predict([[0]])\n",
    "print('intercept(b0): ',b0)\n",
    "\n",
    "b0 = lr.intercept_\n",
    "print('intercept(b0): ',b0)\n",
    "\n",
    "# To get the slope (b1):\n",
    "b1 = lr.coef_\n",
    "print('slope(b1): ',b1)\n",
    "\n",
    "# example: 11 years of experience\n",
    "print('Predicted salary for 11 years of experience: ',lr.predict([[11]]))\n"
   ]
  },
  {
   "cell_type": "code",
   "execution_count": 38,
   "metadata": {},
   "outputs": [
    {
     "data": {
      "image/png": "[encoded data removed]",
      "text/plain": [
       "<Figure size 432x288 with 1 Axes>"
      ]
     },
     "metadata": {
      "needs_background": "light"
     },
     "output_type": "display_data"
    }
   ],
   "source": [
    "# Create an array from 0 to 15 (years)\n",
    "array1= np.array([0,0.5,1,2,3,4,5,6,7,8,10,12,14,15]).reshape(-1,1)\n",
    "# array1.shape\n",
    "\n",
    "# y_head: predicted values for each input\n",
    "y_head = lr.predict(array1)\n",
    "\n",
    "plt.scatter(x, y, color= 'red')\n",
    "plt.plot(array1, y_head, color='lime')\n",
    "plt.xlabel('experience', fontsize=15)\n",
    "plt.ylabel('salary', fontsize=15)\n",
    "plt.show()"
   ]
  },
  {
   "cell_type": "markdown",
   "metadata": {},
   "source": [
    "R2 Score shows us how well the model explains the actual data. This time because we are working with random-ish and small data and also didn't apply train test split, it shows a low ratio but to give an idea we can briefly have a look at it."
   ]
  },
  {
   "cell_type": "code",
   "execution_count": 52,
   "metadata": {},
   "outputs": [
    {
     "name": "stdout",
     "output_type": "stream",
     "text": [
      "R2 score:  0.07651611388056012\n"
     ]
    }
   ],
   "source": [
    "# R2 Score\n",
    "# It should normally be checked with test data. Checking it with the same data we trained the model doesn't have much meaning.\n",
    "y_head = lr.predict(array1)\n",
    "\n",
    "from sklearn.metrics import r2_score\n",
    "print('R2 score: ',r2_score(y, y_head))"
   ]
  },
  {
   "cell_type": "markdown",
   "metadata": {},
   "source": [
    "### Multiple Linear Regression "
   ]
  },
  {
   "cell_type": "code",
   "execution_count": 42,
   "metadata": {},
   "outputs": [
    {
     "data": {
      "text/html": [
       "<div>\n",
       "<style scoped>\n",
       "    .dataframe tbody tr th:only-of-type {\n",
       "        vertical-align: middle;\n",
       "    }\n",
       "\n",
       "    .dataframe tbody tr th {\n",
       "        vertical-align: top;\n",
       "    }\n",
       "\n",
       "    .dataframe thead th {\n",
       "        text-align: right;\n",
       "    }\n",
       "</style>\n",
       "<table border=\"1\" class=\"dataframe\">\n",
       "  <thead>\n",
       "    <tr style=\"text-align: right;\">\n",
       "      <th></th>\n",
       "      <th>experience</th>\n",
       "      <th>salary</th>\n",
       "      <th>age</th>\n",
       "    </tr>\n",
       "  </thead>\n",
       "  <tbody>\n",
       "    <tr>\n",
       "      <th>0</th>\n",
       "      <td>0.5</td>\n",
       "      <td>2500</td>\n",
       "      <td>22</td>\n",
       "    </tr>\n",
       "    <tr>\n",
       "      <th>1</th>\n",
       "      <td>0.0</td>\n",
       "      <td>2250</td>\n",
       "      <td>21</td>\n",
       "    </tr>\n",
       "    <tr>\n",
       "      <th>2</th>\n",
       "      <td>1.0</td>\n",
       "      <td>2750</td>\n",
       "      <td>23</td>\n",
       "    </tr>\n",
       "    <tr>\n",
       "      <th>3</th>\n",
       "      <td>5.0</td>\n",
       "      <td>8000</td>\n",
       "      <td>25</td>\n",
       "    </tr>\n",
       "    <tr>\n",
       "      <th>4</th>\n",
       "      <td>8.0</td>\n",
       "      <td>9000</td>\n",
       "      <td>28</td>\n",
       "    </tr>\n",
       "  </tbody>\n",
       "</table>\n",
       "</div>"
      ],
      "text/plain": [
       "   experience  salary  age\n",
       "0         0.5    2500   22\n",
       "1         0.0    2250   21\n",
       "2         1.0    2750   23\n",
       "3         5.0    8000   25\n",
       "4         8.0    9000   28"
      ]
     },
     "execution_count": 42,
     "metadata": {},
     "output_type": "execute_result"
    }
   ],
   "source": [
    "data2 = pd.read_csv('multiple-linear-regression-dataset.csv', sep=';')\n",
    "data2.rename(columns={'deneyim':'experience', 'maas':'salary', 'yas':'age'}, inplace=True)\n",
    "data2.head()"
   ]
  },
  {
   "cell_type": "code",
   "execution_count": 44,
   "metadata": {},
   "outputs": [],
   "source": [
    "x = data2.iloc[:,[0,2]].values # Because x is wider than 1 column, it doesn't need to be reshaped.\n",
    "y = data2.salary.values.reshape(-1,1)"
   ]
  },
  {
   "cell_type": "code",
   "execution_count": 49,
   "metadata": {},
   "outputs": [
    {
     "name": "stdout",
     "output_type": "stream",
     "text": [
      "intercept(b0):  [10376.62747228]\n",
      "coefficients(b1, b2):  [[1525.50072054 -416.72218625]]\n"
     ]
    },
    {
     "data": {
      "text/plain": [
       "array([[11046.35815877],\n",
       "       [ 8962.7472275 ]])"
      ]
     },
     "execution_count": 49,
     "metadata": {},
     "output_type": "execute_result"
    }
   ],
   "source": [
    "# import pandas as pd\n",
    "# import numpy as np\n",
    "# from sklearn.linear_model import LinearRegression\n",
    "\n",
    "mlr = LinearRegression()\n",
    "mlr.fit(x, y)\n",
    "\n",
    "print('intercept(b0): ',mlr.intercept_)\n",
    "print('coefficients(b1, b2): ',mlr.coef_)\n",
    "\n",
    "# A mini prediction example: Prediction of two persons salaries; both 10 years exp. one is 35 other is 40 years old.\n",
    "mlr.predict(np.array([[10,35],[10,40]]))"
   ]
  },
  {
   "cell_type": "markdown",
   "metadata": {},
   "source": [
    "### Polynomial Linear Regression"
   ]
  },
  {
   "cell_type": "markdown",
   "metadata": {},
   "source": [
    "Sometimes data cannot be explained with a linear relationship. This mean Linearity Assumption of linear regression is violated. We cannot use simple linear regression in this case. "
   ]
  },
  {
   "cell_type": "code",
   "execution_count": 54,
   "metadata": {},
   "outputs": [
    {
     "data": {
      "text/html": [
       "<div>\n",
       "<style scoped>\n",
       "    .dataframe tbody tr th:only-of-type {\n",
       "        vertical-align: middle;\n",
       "    }\n",
       "\n",
       "    .dataframe tbody tr th {\n",
       "        vertical-align: top;\n",
       "    }\n",
       "\n",
       "    .dataframe thead th {\n",
       "        text-align: right;\n",
       "    }\n",
       "</style>\n",
       "<table border=\"1\" class=\"dataframe\">\n",
       "  <thead>\n",
       "    <tr style=\"text-align: right;\">\n",
       "      <th></th>\n",
       "      <th>price</th>\n",
       "      <th>max_speed</th>\n",
       "    </tr>\n",
       "  </thead>\n",
       "  <tbody>\n",
       "    <tr>\n",
       "      <th>0</th>\n",
       "      <td>60</td>\n",
       "      <td>180</td>\n",
       "    </tr>\n",
       "    <tr>\n",
       "      <th>1</th>\n",
       "      <td>70</td>\n",
       "      <td>180</td>\n",
       "    </tr>\n",
       "    <tr>\n",
       "      <th>2</th>\n",
       "      <td>80</td>\n",
       "      <td>200</td>\n",
       "    </tr>\n",
       "    <tr>\n",
       "      <th>3</th>\n",
       "      <td>100</td>\n",
       "      <td>200</td>\n",
       "    </tr>\n",
       "    <tr>\n",
       "      <th>4</th>\n",
       "      <td>120</td>\n",
       "      <td>200</td>\n",
       "    </tr>\n",
       "  </tbody>\n",
       "</table>\n",
       "</div>"
      ],
      "text/plain": [
       "   price  max_speed\n",
       "0     60        180\n",
       "1     70        180\n",
       "2     80        200\n",
       "3    100        200\n",
       "4    120        200"
      ]
     },
     "execution_count": 54,
     "metadata": {},
     "output_type": "execute_result"
    }
   ],
   "source": [
    "# import pandas as pd\n",
    "# import numpy as np\n",
    "# import matplotlib.pyplot as plt\n",
    "\n",
    "dataP = pd.read_csv('polynomial-regression.csv', sep = ';')\n",
    "dataP.rename(columns={\"araba_fiyat\": \"price\", \"araba_max_hiz\": \"max_speed\"}, inplace=True)\n",
    "dataP.head()"
   ]
  },
  {
   "cell_type": "code",
   "execution_count": 55,
   "metadata": {},
   "outputs": [
    {
     "data": {
      "image/png": "[encoded data removed]",
      "text/plain": [
       "<Figure size 432x288 with 1 Axes>"
      ]
     },
     "metadata": {
      "needs_background": "light"
     },
     "output_type": "display_data"
    }
   ],
   "source": [
    "x = dataP.price.values.reshape(-1,1)\n",
    "y = dataP.max_speed.values.reshape(-1,1)\n",
    "\n",
    "plt.scatter(x, y)\n",
    "plt.xlabel('Price', fontsize=15)\n",
    "plt.ylabel('Max Speed', fontsize=15)\n",
    "plt.show()"
   ]
  },
  {
   "cell_type": "code",
   "execution_count": 56,
   "metadata": {},
   "outputs": [
    {
     "data": {
      "image/png": "[encoded data removed]",
      "text/plain": [
       "<Figure size 432x288 with 1 Axes>"
      ]
     },
     "metadata": {
      "needs_background": "light"
     },
     "output_type": "display_data"
    }
   ],
   "source": [
    "from sklearn.preprocessing import PolynomialFeatures\n",
    "from sklearn.linear_model import LinearRegression\n",
    "\n",
    "# There are some methods to determine the degree of polynomiality, but you can also check manually and find the best degree.\n",
    "# Tuning parameters and hyperparameters will be mentioned in other repositories. \n",
    "\n",
    "pr = PolynomialFeatures(degree = 4)\n",
    "xpol = pr.fit_transform(x)\n",
    "\n",
    "lr2 = LinearRegression()\n",
    "lr2.fit(xpol, y)\n",
    "\n",
    "y_head2 = lr2.predict(xpol)\n",
    "\n",
    "# Plotting data will tell us things much better.\n",
    "plt.scatter(x, y)\n",
    "plt.xlabel('Price')\n",
    "plt.ylabel('Max Speed')\n",
    "plt.plot(x, y_head2, color='red')\n",
    "plt.show()"
   ]
  },
  {
   "cell_type": "markdown",
   "metadata": {},
   "source": [
    "### Linear vs. Polynomial: Comparison"
   ]
  },
  {
   "cell_type": "code",
   "execution_count": 57,
   "metadata": {},
   "outputs": [
    {
     "data": {
      "image/png": "[encoded data removed]",
      "text/plain": [
       "<Figure size 432x288 with 1 Axes>"
      ]
     },
     "metadata": {
      "needs_background": "light"
     },
     "output_type": "display_data"
    }
   ],
   "source": [
    "# Linear\n",
    "lr1 = LinearRegression()\n",
    "lr1.fit(x, y)\n",
    "y_head1 = lr1.predict(x)\n",
    "\n",
    "#Polynomial\n",
    "pr = PolynomialFeatures(degree = 4)\n",
    "xpol = pr.fit_transform(x)\n",
    "lr2 = LinearRegression()\n",
    "lr2.fit(xpol, y)\n",
    "y_head2 = lr2.predict(xpol)\n",
    "\n",
    "# plot below explains everything\n",
    "plt.scatter(x, y, color = 'black')\n",
    "plt.xlabel('Price')\n",
    "plt.ylabel('Max Speed')\n",
    "plt.plot(x, y_head1, color='blue')\n",
    "plt.plot(x, y_head2, color='red')\n",
    "plt.show()"
   ]
  },
  {
   "cell_type": "markdown",
   "metadata": {},
   "source": [
    "Plot above shows very clearly that polynomial curve explains data better. According to linear regression curve, most expensive cars should have been as fast as airplanes."
   ]
  },
  {
   "cell_type": "markdown",
   "metadata": {},
   "source": [
    "### Decision Tree Regression"
   ]
  },
  {
   "cell_type": "code",
   "execution_count": 60,
   "metadata": {
    "scrolled": true
   },
   "outputs": [
    {
     "data": {
      "image/png": "[encoded data removed]",
      "text/plain": [
       "<Figure size 432x288 with 1 Axes>"
      ]
     },
     "metadata": {
      "needs_background": "light"
     },
     "output_type": "display_data"
    }
   ],
   "source": [
    "# import pandas as pd\n",
    "# import numpy as np\n",
    "# import matplotlib.pyplot as plt\n",
    "\n",
    "DecTree = pd.read_csv('decision-tree-regression-dataset.csv', sep = ';', header=None)\n",
    "#DecTree.head()\n",
    "\n",
    "# using .iloc is just another way of telling computer to select which columns\n",
    "x = DecTree.iloc[:,0].values.reshape(-1,1)\n",
    "y = DecTree.iloc[:,1].values.reshape(-1,1)\n",
    "\n",
    "from sklearn.tree import DecisionTreeRegressor\n",
    "tree = DecisionTreeRegressor()  # random state = 0\n",
    "\n",
    "tree.fit(x, y)\n",
    "#tree.predict(5.5)\n",
    "\n",
    "x_new = np.arange(min(x),max(x),0.01).reshape(-1,1)\n",
    "y_head = tree.predict(x_new)\n",
    "\n",
    "plt.scatter(x, y, color='red')\n",
    "plt.plot(x_new, y_head, color='lime')\n",
    "plt.xlabel('seat location', fontsize=15)\n",
    "plt.ylabel('price', fontsize=15)\n",
    "plt.show()"
   ]
  },
  {
   "cell_type": "markdown",
   "metadata": {},
   "source": [
    "### Decision Tree Regression 2 (Let's change the data a little bit)"
   ]
  },
  {
   "cell_type": "code",
   "execution_count": 61,
   "metadata": {},
   "outputs": [
    {
     "data": {
      "image/png": "[encoded data removed]",
      "text/plain": [
       "<Figure size 432x288 with 1 Axes>"
      ]
     },
     "metadata": {
      "needs_background": "light"
     },
     "output_type": "display_data"
    }
   ],
   "source": [
    "DecTree = pd.read_csv('decision-tree-regression-dataset.csv', sep = ';', header=None)\n",
    "DecTree.iloc[0:10,1] = [100,93, 90, 10, 9, 13, 200, 180,190, 185]\n",
    "# DecTree\n",
    "\n",
    "# using .iloc is just another way of telling computer to select which columns\n",
    "x1 = DecTree.iloc[:,0].values.reshape(-1,1)\n",
    "y1 = DecTree.iloc[:,1].values.reshape(-1,1)\n",
    "\n",
    "from sklearn.tree import DecisionTreeRegressor\n",
    "tree2 = DecisionTreeRegressor()  # random_state = 0\n",
    "\n",
    "tree2.fit(x1, y1)\n",
    "#tree.predict(5.5)\n",
    "\n",
    "x1_new = np.arange(min(x1),max(x1),0.01).reshape(-1,1)\n",
    "y1_head = tree2.predict(x1_new)\n",
    "\n",
    "plt.scatter(x1, y1, color='red')\n",
    "plt.plot(x1_new, y1_head, color='lime')\n",
    "plt.xlabel('seat location', fontsize=15)\n",
    "plt.ylabel('price', fontsize=15)\n",
    "plt.show()"
   ]
  },
  {
   "cell_type": "code",
   "execution_count": 124,
   "metadata": {},
   "outputs": [
    {
     "data": {
      "image/png": "[encoded data removed]",
      "text/plain": [
       "<Figure size 432x288 with 1 Axes>"
      ]
     },
     "metadata": {
      "needs_background": "light"
     },
     "output_type": "display_data"
    }
   ],
   "source": [
    "# Random Forests Regression\n",
    "\n",
    "import pandas as pd\n",
    "import numpy as np\n",
    "import matplotlib.pyplot as plt\n",
    "\n",
    "data_forest = pd.read_csv('decision-tree-regression-dataset.csv', sep = ';', header=None )\n",
    "data_forest.iloc[0:10,1] = [100,93, 90, 10, 9, 13, 200, 180,190, 185]\n",
    "\n",
    "x2 = data_forest.iloc[:,0].values.reshape(-1,1)\n",
    "y2 = data_forest.iloc[:,1].values.reshape(-1,1)\n",
    "\n",
    "from sklearn.ensemble import RandomForestRegressor\n",
    "\n",
    "\n",
    "rf = RandomForestRegressor(n_estimators = 100, random_state = 42)\n",
    "model = rf.fit(x2, y2.ravel()) # this time .ravel() was necessary(???)\n",
    "\n",
    "x3 = np.arange(min(x2), max(x2), 0.01).reshape(-1,1)\n",
    "y3 = model.predict(x3)\n",
    "\n",
    "plt.scatter(x2, y2, color='black')\n",
    "plt.plot(x3, y3, color='lime')\n",
    "plt.xlabel('seats')\n",
    "plt.ylabel('price')\n",
    "plt.show()"
   ]
  },
  {
   "cell_type": "markdown",
   "metadata": {},
   "source": [
    "I hope found this notebook useful. To repeat again: R2 score must be checked with test data and in order to have test data it should normally be splitted. Standardizing/Normalizing data is also another crucial thing, which I will be covering in other notebooks."
   ]
  }
 ],
 "metadata": {
  "kernelspec": {
   "display_name": "Python 3",
   "language": "python",
   "name": "python3"
  },
  "language_info": {
   "codemirror_mode": {
    "name": "ipython",
    "version": 3
   },
   "file_extension": ".py",
   "mimetype": "text/x-python",
   "name": "python",
   "nbconvert_exporter": "python",
   "pygments_lexer": "ipython3",
   "version": "3.7.3"
  }
 },
 "nbformat": 4,
 "nbformat_minor": 2
}
